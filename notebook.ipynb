{
 "cells": [
  {
   "cell_type": "code",
   "execution_count": 1,
   "metadata": {},
   "outputs": [],
   "source": [
    "from Scripts import (\n",
    "    prices,\n",
    "    alvos\n",
    ")"
   ]
  },
  {
   "cell_type": "code",
   "execution_count": 2,
   "metadata": {},
   "outputs": [
    {
     "name": "stdout",
     "output_type": "stream",
     "text": [
      " [*********************100%***********************]  28 of 28 completed"
     ]
    }
   ],
   "source": [
    "dict_prices = prices.Prices.get_setor_B3('IBHB')"
   ]
  },
  {
   "cell_type": "code",
   "execution_count": 3,
   "metadata": {},
   "outputs": [
    {
     "data": {
      "text/html": [
       "<div>\n",
       "<style scoped>\n",
       "    .dataframe tbody tr th:only-of-type {\n",
       "        vertical-align: middle;\n",
       "    }\n",
       "\n",
       "    .dataframe tbody tr th {\n",
       "        vertical-align: top;\n",
       "    }\n",
       "\n",
       "    .dataframe thead th {\n",
       "        text-align: right;\n",
       "    }\n",
       "</style>\n",
       "<table border=\"1\" class=\"dataframe\">\n",
       "  <thead>\n",
       "    <tr style=\"text-align: right;\">\n",
       "      <th></th>\n",
       "      <th>Adj Close</th>\n",
       "      <th>Close</th>\n",
       "      <th>High</th>\n",
       "      <th>Low</th>\n",
       "      <th>Open</th>\n",
       "      <th>Volume</th>\n",
       "    </tr>\n",
       "    <tr>\n",
       "      <th>Date</th>\n",
       "      <th></th>\n",
       "      <th></th>\n",
       "      <th></th>\n",
       "      <th></th>\n",
       "      <th></th>\n",
       "      <th></th>\n",
       "    </tr>\n",
       "  </thead>\n",
       "  <tbody>\n",
       "    <tr>\n",
       "      <th>2023-10-18</th>\n",
       "      <td>20.631132</td>\n",
       "      <td>21.990000</td>\n",
       "      <td>23.219999</td>\n",
       "      <td>21.900000</td>\n",
       "      <td>23.059999</td>\n",
       "      <td>11414800</td>\n",
       "    </tr>\n",
       "    <tr>\n",
       "      <th>2023-10-19</th>\n",
       "      <td>20.602982</td>\n",
       "      <td>21.959999</td>\n",
       "      <td>22.270000</td>\n",
       "      <td>21.809999</td>\n",
       "      <td>22.010000</td>\n",
       "      <td>6982300</td>\n",
       "    </tr>\n",
       "    <tr>\n",
       "      <th>2023-10-20</th>\n",
       "      <td>20.659277</td>\n",
       "      <td>22.020000</td>\n",
       "      <td>22.049999</td>\n",
       "      <td>21.360001</td>\n",
       "      <td>21.820000</td>\n",
       "      <td>4901300</td>\n",
       "    </tr>\n",
       "    <tr>\n",
       "      <th>2023-10-23</th>\n",
       "      <td>21.447369</td>\n",
       "      <td>22.860001</td>\n",
       "      <td>22.990000</td>\n",
       "      <td>21.809999</td>\n",
       "      <td>21.850000</td>\n",
       "      <td>6902500</td>\n",
       "    </tr>\n",
       "    <tr>\n",
       "      <th>2023-10-24</th>\n",
       "      <td>21.888327</td>\n",
       "      <td>23.330000</td>\n",
       "      <td>23.629999</td>\n",
       "      <td>22.959999</td>\n",
       "      <td>23.200001</td>\n",
       "      <td>5883300</td>\n",
       "    </tr>\n",
       "    <tr>\n",
       "      <th>...</th>\n",
       "      <td>...</td>\n",
       "      <td>...</td>\n",
       "      <td>...</td>\n",
       "      <td>...</td>\n",
       "      <td>...</td>\n",
       "      <td>...</td>\n",
       "    </tr>\n",
       "    <tr>\n",
       "      <th>2024-11-14</th>\n",
       "      <td>21.852562</td>\n",
       "      <td>21.950001</td>\n",
       "      <td>22.200001</td>\n",
       "      <td>21.620001</td>\n",
       "      <td>21.639999</td>\n",
       "      <td>3719900</td>\n",
       "    </tr>\n",
       "    <tr>\n",
       "      <th>2024-11-18</th>\n",
       "      <td>21.563848</td>\n",
       "      <td>21.660000</td>\n",
       "      <td>21.850000</td>\n",
       "      <td>21.549999</td>\n",
       "      <td>21.790001</td>\n",
       "      <td>3499100</td>\n",
       "    </tr>\n",
       "    <tr>\n",
       "      <th>2024-11-19</th>\n",
       "      <td>21.680000</td>\n",
       "      <td>21.680000</td>\n",
       "      <td>21.700001</td>\n",
       "      <td>21.330000</td>\n",
       "      <td>21.559999</td>\n",
       "      <td>2952900</td>\n",
       "    </tr>\n",
       "    <tr>\n",
       "      <th>2024-11-21</th>\n",
       "      <td>21.080000</td>\n",
       "      <td>21.080000</td>\n",
       "      <td>21.450001</td>\n",
       "      <td>21.000000</td>\n",
       "      <td>21.410000</td>\n",
       "      <td>6683200</td>\n",
       "    </tr>\n",
       "    <tr>\n",
       "      <th>2024-11-22</th>\n",
       "      <td>21.450001</td>\n",
       "      <td>21.450001</td>\n",
       "      <td>21.500000</td>\n",
       "      <td>20.920000</td>\n",
       "      <td>21.260000</td>\n",
       "      <td>10065300</td>\n",
       "    </tr>\n",
       "  </tbody>\n",
       "</table>\n",
       "<p>275 rows × 6 columns</p>\n",
       "</div>"
      ],
      "text/plain": [
       "            Adj Close      Close       High        Low       Open    Volume\n",
       "Date                                                                       \n",
       "2023-10-18  20.631132  21.990000  23.219999  21.900000  23.059999  11414800\n",
       "2023-10-19  20.602982  21.959999  22.270000  21.809999  22.010000   6982300\n",
       "2023-10-20  20.659277  22.020000  22.049999  21.360001  21.820000   4901300\n",
       "2023-10-23  21.447369  22.860001  22.990000  21.809999  21.850000   6902500\n",
       "2023-10-24  21.888327  23.330000  23.629999  22.959999  23.200001   5883300\n",
       "...               ...        ...        ...        ...        ...       ...\n",
       "2024-11-14  21.852562  21.950001  22.200001  21.620001  21.639999   3719900\n",
       "2024-11-18  21.563848  21.660000  21.850000  21.549999  21.790001   3499100\n",
       "2024-11-19  21.680000  21.680000  21.700001  21.330000  21.559999   2952900\n",
       "2024-11-21  21.080000  21.080000  21.450001  21.000000  21.410000   6683200\n",
       "2024-11-22  21.450001  21.450001  21.500000  20.920000  21.260000  10065300\n",
       "\n",
       "[275 rows x 6 columns]"
      ]
     },
     "execution_count": 3,
     "metadata": {},
     "output_type": "execute_result"
    }
   ],
   "source": [
    "dict_prices['ALOS3.SA']"
   ]
  },
  {
   "cell_type": "code",
   "execution_count": 4,
   "metadata": {},
   "outputs": [
    {
     "name": "stdout",
     "output_type": "stream",
     "text": [
      "Date\n",
      "2023-10-18   -1.070000\n",
      "2023-10-19   -0.050001\n",
      "2023-10-20    0.200001\n",
      "2023-10-23    1.010000\n",
      "2023-10-24    0.129999\n",
      "                ...   \n",
      "2024-11-14    0.310001\n",
      "2024-11-18   -0.130001\n",
      "2024-11-19    0.120001\n",
      "2024-11-21   -0.330000\n",
      "2024-11-22    0.190001\n",
      "Length: 275, dtype: float64\n"
     ]
    }
   ],
   "source": [
    "alvos.Alvos(dict_prices['ALOS3.SA']).BINARIO"
   ]
  }
 ],
 "metadata": {
  "kernelspec": {
   "display_name": ".venv",
   "language": "python",
   "name": "python3"
  },
  "language_info": {
   "codemirror_mode": {
    "name": "ipython",
    "version": 3
   },
   "file_extension": ".py",
   "mimetype": "text/x-python",
   "name": "python",
   "nbconvert_exporter": "python",
   "pygments_lexer": "ipython3",
   "version": "3.10.0"
  }
 },
 "nbformat": 4,
 "nbformat_minor": 2
}
