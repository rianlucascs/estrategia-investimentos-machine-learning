{
 "cells": [
  {
   "cell_type": "code",
   "execution_count": 1,
   "metadata": {},
   "outputs": [],
   "source": [
    "from yfinance import download"
   ]
  },
  {
   "cell_type": "markdown",
   "metadata": {},
   "source": [
    "# PREDIÇÃO DE DADOS BINÁRIOS\n",
    "\n",
    "Predição da série dos retornos de ativos financeiros"
   ]
  },
  {
   "cell_type": "code",
   "execution_count": 14,
   "metadata": {},
   "outputs": [],
   "source": [
    "ticker = 'GOAU4.SA'\n",
    "start = '2012-05-12'\n",
    "end = '2022-05-12'\n",
    "column_variacao_percentual = 'Adj Close'\n",
    "periodos_alvo = 1"
   ]
  },
  {
   "cell_type": "code",
   "execution_count": 24,
   "metadata": {},
   "outputs": [
    {
     "data": {
      "text/html": [
       "<div>\n",
       "<style scoped>\n",
       "    .dataframe tbody tr th:only-of-type {\n",
       "        vertical-align: middle;\n",
       "    }\n",
       "\n",
       "    .dataframe tbody tr th {\n",
       "        vertical-align: top;\n",
       "    }\n",
       "\n",
       "    .dataframe thead tr th {\n",
       "        text-align: left;\n",
       "    }\n",
       "\n",
       "    .dataframe thead tr:last-of-type th {\n",
       "        text-align: right;\n",
       "    }\n",
       "</style>\n",
       "<table border=\"1\" class=\"dataframe\">\n",
       "  <thead>\n",
       "    <tr>\n",
       "      <th>Price</th>\n",
       "      <th>Adj Close</th>\n",
       "      <th>Close</th>\n",
       "      <th>High</th>\n",
       "      <th>Low</th>\n",
       "      <th>Open</th>\n",
       "      <th>Volume</th>\n",
       "    </tr>\n",
       "    <tr>\n",
       "      <th>Ticker</th>\n",
       "      <th>GOAU4.SA</th>\n",
       "      <th>GOAU4.SA</th>\n",
       "      <th>GOAU4.SA</th>\n",
       "      <th>GOAU4.SA</th>\n",
       "      <th>GOAU4.SA</th>\n",
       "      <th>GOAU4.SA</th>\n",
       "    </tr>\n",
       "    <tr>\n",
       "      <th>Date</th>\n",
       "      <th></th>\n",
       "      <th></th>\n",
       "      <th></th>\n",
       "      <th></th>\n",
       "      <th></th>\n",
       "      <th></th>\n",
       "    </tr>\n",
       "  </thead>\n",
       "  <tbody>\n",
       "    <tr>\n",
       "      <th>2022-05-10</th>\n",
       "      <td>8.179797</td>\n",
       "      <td>10.78</td>\n",
       "      <td>11.30</td>\n",
       "      <td>10.60</td>\n",
       "      <td>11.3</td>\n",
       "      <td>11194400</td>\n",
       "    </tr>\n",
       "    <tr>\n",
       "      <th>2022-05-11</th>\n",
       "      <td>8.498492</td>\n",
       "      <td>11.20</td>\n",
       "      <td>11.34</td>\n",
       "      <td>10.83</td>\n",
       "      <td>10.9</td>\n",
       "      <td>9818700</td>\n",
       "    </tr>\n",
       "  </tbody>\n",
       "</table>\n",
       "</div>"
      ],
      "text/plain": [
       "Price      Adj Close    Close     High      Low     Open    Volume\n",
       "Ticker      GOAU4.SA GOAU4.SA GOAU4.SA GOAU4.SA GOAU4.SA  GOAU4.SA\n",
       "Date                                                              \n",
       "2022-05-10  8.179797    10.78    11.30    10.60     11.3  11194400\n",
       "2022-05-11  8.498492    11.20    11.34    10.83     10.9   9818700"
      ]
     },
     "execution_count": 24,
     "metadata": {},
     "output_type": "execute_result"
    }
   ],
   "source": [
    "df_price = download(ticker, start, end, progress=False)\n",
    "df_price.tail(2)"
   ]
  },
  {
   "cell_type": "code",
   "execution_count": null,
   "metadata": {},
   "outputs": [],
   "source": []
  },
  {
   "cell_type": "markdown",
   "metadata": {},
   "source": [
    "![alt text](Screenshot_1.png)"
   ]
  },
  {
   "cell_type": "code",
   "execution_count": 25,
   "metadata": {},
   "outputs": [
    {
     "data": {
      "text/html": [
       "<div>\n",
       "<style scoped>\n",
       "    .dataframe tbody tr th:only-of-type {\n",
       "        vertical-align: middle;\n",
       "    }\n",
       "\n",
       "    .dataframe tbody tr th {\n",
       "        vertical-align: top;\n",
       "    }\n",
       "\n",
       "    .dataframe thead tr th {\n",
       "        text-align: left;\n",
       "    }\n",
       "\n",
       "    .dataframe thead tr:last-of-type th {\n",
       "        text-align: right;\n",
       "    }\n",
       "</style>\n",
       "<table border=\"1\" class=\"dataframe\">\n",
       "  <thead>\n",
       "    <tr>\n",
       "      <th>Price</th>\n",
       "      <th>Adj Close</th>\n",
       "      <th>Close</th>\n",
       "      <th>High</th>\n",
       "      <th>Low</th>\n",
       "      <th>Open</th>\n",
       "      <th>Volume</th>\n",
       "      <th>variacao_percentual</th>\n",
       "    </tr>\n",
       "    <tr>\n",
       "      <th>Ticker</th>\n",
       "      <th>GOAU4.SA</th>\n",
       "      <th>GOAU4.SA</th>\n",
       "      <th>GOAU4.SA</th>\n",
       "      <th>GOAU4.SA</th>\n",
       "      <th>GOAU4.SA</th>\n",
       "      <th>GOAU4.SA</th>\n",
       "      <th></th>\n",
       "    </tr>\n",
       "    <tr>\n",
       "      <th>Date</th>\n",
       "      <th></th>\n",
       "      <th></th>\n",
       "      <th></th>\n",
       "      <th></th>\n",
       "      <th></th>\n",
       "      <th></th>\n",
       "      <th></th>\n",
       "    </tr>\n",
       "  </thead>\n",
       "  <tbody>\n",
       "    <tr>\n",
       "      <th>2022-05-10</th>\n",
       "      <td>8.179797</td>\n",
       "      <td>10.78</td>\n",
       "      <td>11.30</td>\n",
       "      <td>10.60</td>\n",
       "      <td>11.3</td>\n",
       "      <td>11194400</td>\n",
       "      <td>-0.054386</td>\n",
       "    </tr>\n",
       "    <tr>\n",
       "      <th>2022-05-11</th>\n",
       "      <td>8.498492</td>\n",
       "      <td>11.20</td>\n",
       "      <td>11.34</td>\n",
       "      <td>10.83</td>\n",
       "      <td>10.9</td>\n",
       "      <td>9818700</td>\n",
       "      <td>0.038961</td>\n",
       "    </tr>\n",
       "  </tbody>\n",
       "</table>\n",
       "</div>"
      ],
      "text/plain": [
       "Price      Adj Close    Close     High      Low     Open    Volume  \\\n",
       "Ticker      GOAU4.SA GOAU4.SA GOAU4.SA GOAU4.SA GOAU4.SA  GOAU4.SA   \n",
       "Date                                                                 \n",
       "2022-05-10  8.179797    10.78    11.30    10.60     11.3  11194400   \n",
       "2022-05-11  8.498492    11.20    11.34    10.83     10.9   9818700   \n",
       "\n",
       "Price      variacao_percentual  \n",
       "Ticker                          \n",
       "Date                            \n",
       "2022-05-10           -0.054386  \n",
       "2022-05-11            0.038961  "
      ]
     },
     "execution_count": 25,
     "metadata": {},
     "output_type": "execute_result"
    }
   ],
   "source": [
    "df_price['variacao_percentual'] = df_price[column_variacao_percentual].pct_change(periodos_alvo)\n",
    "df_price.tail(2)"
   ]
  },
  {
   "cell_type": "code",
   "execution_count": null,
   "metadata": {},
   "outputs": [],
   "source": []
  }
 ],
 "metadata": {
  "kernelspec": {
   "display_name": ".venv",
   "language": "python",
   "name": "python3"
  },
  "language_info": {
   "codemirror_mode": {
    "name": "ipython",
    "version": 3
   },
   "file_extension": ".py",
   "mimetype": "text/x-python",
   "name": "python",
   "nbconvert_exporter": "python",
   "pygments_lexer": "ipython3",
   "version": "3.10.0"
  }
 },
 "nbformat": 4,
 "nbformat_minor": 2
}
